{
 "cells": [
  {
   "cell_type": "code",
   "execution_count": 12,
   "metadata": {},
   "outputs": [
    {
     "name": "stdout",
     "output_type": "stream",
     "text": [
      "[1, 1, 0, 2]\n"
     ]
    }
   ],
   "source": [
    "flg=[True,False,False,True]\n",
    "flg2=[False,True,False,True]\n",
    "fa=[f+f2 for f,f2 in zip(flg,flg2)]\n",
    "print(fa)"
   ]
  },
  {
   "cell_type": "code",
   "execution_count": 14,
   "metadata": {},
   "outputs": [
    {
     "name": "stdout",
     "output_type": "stream",
     "text": [
      "[ True  True False  True]\n"
     ]
    }
   ],
   "source": [
    "import numpy as np\n",
    "fnp=np.array(fa,dtype=\"bool\")\n",
    "print(fnp)"
   ]
  },
  {
   "cell_type": "code",
   "execution_count": 9,
   "metadata": {},
   "outputs": [
    {
     "name": "stdout",
     "output_type": "stream",
     "text": [
      "True\n"
     ]
    }
   ],
   "source": [
    "booler=True+True\n",
    "print(booler)"
   ]
  },
  {
   "cell_type": "code",
   "execution_count": 81,
   "metadata": {},
   "outputs": [
    {
     "name": "stdout",
     "output_type": "stream",
     "text": [
      "2 3\n",
      "row 1 col 1\n",
      "row 1 col 2\n",
      "row 1 col 3\n",
      "row 2 col 1\n",
      "row 2 col 2\n"
     ]
    }
   ],
   "source": [
    "import math\n",
    "graph_type=[1,2,3,2,1]\n",
    "num=len(graph_type)\n",
    "cols=math.ceil(math.sqrt(num))\n",
    "rows=math.ceil((num/int(cols)))\n",
    "print(rows,cols)\n",
    "#figure = make_subplots(rows=rows,cols=cols)\n",
    "cnt=0\n",
    "for row in range(rows):\n",
    "    for col in range(cols):\n",
    "        if (cnt<num):\n",
    "            print('row',row+1,\"col\",col+1)\n",
    "            cnt+=1"
   ]
  },
  {
   "cell_type": "code",
   "execution_count": 85,
   "metadata": {},
   "outputs": [
    {
     "name": "stdout",
     "output_type": "stream",
     "text": [
      "[[], [], []]\n"
     ]
    }
   ],
   "source": [
    "\n",
    "specs=[[] for _ in range(3)]\n",
    "print(specs)"
   ]
  },
  {
   "cell_type": "code",
   "execution_count": null,
   "metadata": {},
   "outputs": [],
   "source": []
  },
  {
   "cell_type": "code",
   "execution_count": 10,
   "metadata": {},
   "outputs": [],
   "source": [
    "aaa=[1,3,5,7,2]+[1,7,2,5,7]"
   ]
  },
  {
   "cell_type": "code",
   "execution_count": 1,
   "metadata": {},
   "outputs": [],
   "source": [
    "ccc={\"asdfas\":0,\"fsadf\":2}"
   ]
  },
  {
   "cell_type": "code",
   "execution_count": 1,
   "metadata": {},
   "outputs": [
    {
     "name": "stdout",
     "output_type": "stream",
     "text": [
      "read dataset\n",
      "read features\n",
      "read kMeans\n",
      "make figure\n",
      "make IO\n"
     ]
    }
   ],
   "source": [
    "import dataRead\n",
    "dataClass=dataRead.dataSets\n",
    "input_data=dataClass.Input_data()\n",
    "input_features=dataClass.Input_features()\n",
    "kMeans_dict=dataClass.KMeans_dict()\n",
    "input_indexes=dataClass.Input_indexes(input_data)\n",
    "figure_dict=dataClass.Figure_dict(input_data)\n",
    "feature_unique=dataClass.Feature_unique(input_features)\n",
    "feature_dict=dataClass.Feature_dict(feature_unique)\n",
    "io_dict=dataClass.IO_dict(feature_unique,input_features)\n"
   ]
  },
  {
   "cell_type": "code",
   "execution_count": 22,
   "metadata": {},
   "outputs": [
    {
     "name": "stdout",
     "output_type": "stream",
     "text": [
      "read features\n"
     ]
    }
   ],
   "source": [
    "\n",
    "input_features=dataClass.Input_features()\n",
    "feature_dict=dataClass.Feature_dict(feature_unique)"
   ]
  },
  {
   "cell_type": "code",
   "execution_count": 50,
   "metadata": {},
   "outputs": [
    {
     "name": "stdout",
     "output_type": "stream",
     "text": [
      "                           id_index                     file  \\\n",
      "0    A00000_close_2021Y05M11D14H37m        abe_C210511143701   \n",
      "1    A00000_close_2021Y05M13D11H01m        abe_C210513110139   \n",
      "2    A00000_close_2021Y05M13D14H45m        abe_C210513144536   \n",
      "3    A00000_close_2021Y05M13D18H24m        abe_C210513182428   \n",
      "4    A00000_close_2021Y05M14D14H15m        abe_C210514141559   \n",
      "..                              ...                      ...   \n",
      "283   A00008_open_2021Y06M21D18H28m  shinohara_O210621182831   \n",
      "284   A00008_open_2021Y06M28D18H07m  shinohara_O210628180707   \n",
      "285   A00008_open_2021Y07M05D18H56m  shinohara_O210705185631   \n",
      "286   A00008_open_2021Y07M12D18H40m  shinohara_O210712184020   \n",
      "287   A00008_open_2021Y07M19D17H53m  shinohara_O210719175350   \n",
      "\n",
      "                                     path   ext       name eye_state  \\\n",
      "0          ./domain\\abe_C210511143701.csv  .csv        abe     close   \n",
      "1          ./domain\\abe_C210513110139.csv  .csv        abe     close   \n",
      "2          ./domain\\abe_C210513144536.csv  .csv        abe     close   \n",
      "3          ./domain\\abe_C210513182428.csv  .csv        abe     close   \n",
      "4          ./domain\\abe_C210514141559.csv  .csv        abe     close   \n",
      "..                                    ...   ...        ...       ...   \n",
      "283  ./domain\\shinohara_O210621182831.csv  .csv  shinohara      open   \n",
      "284  ./domain\\shinohara_O210628180707.csv  .csv  shinohara      open   \n",
      "285  ./domain\\shinohara_O210705185631.csv  .csv  shinohara      open   \n",
      "286  ./domain\\shinohara_O210712184020.csv  .csv  shinohara      open   \n",
      "287  ./domain\\shinohara_O210719175350.csv  .csv  shinohara      open   \n",
      "\n",
      "                datetime  year  month  day  hour  minute week id_user  \n",
      "0    2021-05-11 14:37:01  2021      5   11    14      37  tue  A00000  \n",
      "1    2021-05-13 11:01:39  2021      5   13    11       1  thu  A00000  \n",
      "2    2021-05-13 14:45:36  2021      5   13    14      45  thu  A00000  \n",
      "3    2021-05-13 18:24:28  2021      5   13    18      24  thu  A00000  \n",
      "4    2021-05-14 14:15:59  2021      5   14    14      15  fri  A00000  \n",
      "..                   ...   ...    ...  ...   ...     ...  ...     ...  \n",
      "283  2021-06-21 18:28:31  2021      6   21    18      28  mon  A00008  \n",
      "284  2021-06-28 18:07:07  2021      6   28    18       7  mon  A00008  \n",
      "285  2021-07-05 18:56:31  2021      7    5    18      56  mon  A00008  \n",
      "286  2021-07-12 18:40:20  2021      7   12    18      40  mon  A00008  \n",
      "287  2021-07-19 17:53:50  2021      7   19    17      53  mon  A00008  \n",
      "\n",
      "[288 rows x 14 columns]\n"
     ]
    }
   ],
   "source": [
    "print(input_features[\"feature\"])"
   ]
  },
  {
   "cell_type": "code",
   "execution_count": 51,
   "metadata": {},
   "outputs": [
    {
     "name": "stdout",
     "output_type": "stream",
     "text": [
      "['A00000_open_2021Y05M17D14H51m', 'A00001_open_2021Y07M12D18H56m', 'A00000_open_2021Y05M14D14H17m', 'A00000_close_2021Y06M28D17H49m', 'A00000_close_2021Y07M05D18H46m', 'A00001_close_2021Y07M19D18H03m', 'A00000_close_2021Y05M14D14H15m', 'A00000_close_2021Y05M17D14H52m', 'A00000_open_2021Y07M12D19H09m', 'A00001_close_2021Y06M28D17H38m', 'A00001_close_2021Y05M17D14H48m', 'A00001_open_2021Y06M28D17H37m', 'A00001_open_2021Y07M05D18H47m', 'A00001_close_2021Y04M26D14H49m', 'A00001_close_2021Y04M26D18H13m', 'A00001_close_2021Y07M12D18H58m', 'A00000_open_2021Y07M05D18H44m', 'A00000_close_2021Y07M12D19H10m', 'A00000_open_2021Y06M28D17H48m', 'A00000_close_2021Y05M14D18H24m', 'A00001_open_2021Y04M26D18H14m', 'A00001_open_2021Y04M26D14H50m', 'A00000_open_2021Y05M14D18H26m', 'A00001_close_2021Y07M05D18H48m', 'A00001_open_2021Y05M17D14H47m', 'A00001_open_2021Y07M19D18H01m']\n"
     ]
    }
   ],
   "source": [
    "import pandas as pd\n",
    "id_user=['A00000','A00001']\n",
    "week=['fri','mon']\n",
    "eye_state=['open','close']\n",
    "id_user_io=[]\n",
    "week_io=[]\n",
    "eye_state_io=[]\n",
    "feature=input_features[\"feature\"].set_index('id_index')\n",
    "for val in id_user:\n",
    "    id_user_io.extend(feature[feature['id_user']==val].index)\n",
    "for val in week:\n",
    "    week_io.extend(feature[feature['week']==val].index)\n",
    "for val in eye_state:\n",
    "    eye_state_io.extend(feature[feature['eye_state']==val].index)\n",
    "data_io = list(set(id_user_io) & set(week_io) & set(eye_state_io))\n",
    "print(data_io)\n",
    "#io_index=[index for index,io in zip(input_indexes,io_data) if io==True ]"
   ]
  },
  {
   "cell_type": "code",
   "execution_count": 20,
   "metadata": {},
   "outputs": [
    {
     "ename": "TypeError",
     "evalue": "'dict' object is not callable",
     "output_type": "error",
     "traceback": [
      "\u001b[1;31m---------------------------------------------------------------------------\u001b[0m",
      "\u001b[1;31mTypeError\u001b[0m                                 Traceback (most recent call last)",
      "\u001b[1;32m~\\AppData\\Local\\Temp/ipykernel_23992/3143912629.py\u001b[0m in \u001b[0;36m<module>\u001b[1;34m\u001b[0m\n\u001b[1;32m----> 1\u001b[1;33m \u001b[0mio_data\u001b[0m\u001b[1;33m=\u001b[0m\u001b[0mid_user_io\u001b[0m\u001b[1;33m(\u001b[0m\u001b[1;33m)\u001b[0m\u001b[1;33m.\u001b[0m\u001b[0mkeys\u001b[0m\u001b[1;33m.\u001b[0m\u001b[0mintersection\u001b[0m\u001b[1;33m(\u001b[0m\u001b[0mweek_io\u001b[0m\u001b[1;33m.\u001b[0m\u001b[0mkeys\u001b[0m\u001b[1;33m(\u001b[0m\u001b[1;33m)\u001b[0m\u001b[1;33m)\u001b[0m\u001b[1;33m\u001b[0m\u001b[1;33m\u001b[0m\u001b[0m\n\u001b[0m\u001b[0;32m      2\u001b[0m \u001b[0mio_data\u001b[0m\u001b[1;33m=\u001b[0m\u001b[0mio_data\u001b[0m\u001b[1;33m.\u001b[0m\u001b[0mintersection_update\u001b[0m\u001b[1;33m(\u001b[0m\u001b[0meye_state_io\u001b[0m\u001b[1;33m.\u001b[0m\u001b[0mkeys\u001b[0m\u001b[1;33m(\u001b[0m\u001b[1;33m)\u001b[0m\u001b[1;33m)\u001b[0m\u001b[1;33m\u001b[0m\u001b[1;33m\u001b[0m\u001b[0m\n\u001b[0;32m      3\u001b[0m \u001b[0mio_data\u001b[0m\u001b[1;33m=\u001b[0m\u001b[0mio_data\u001b[0m\u001b[1;33m.\u001b[0m\u001b[0mastype\u001b[0m\u001b[1;33m(\u001b[0m\u001b[1;34m'bool'\u001b[0m\u001b[1;33m)\u001b[0m\u001b[1;33m\u001b[0m\u001b[1;33m\u001b[0m\u001b[0m\n\u001b[0;32m      4\u001b[0m \u001b[1;31m#io_index=[index for index,io in zip(input_indexes,io_data) if io==True ]\u001b[0m\u001b[1;33m\u001b[0m\u001b[1;33m\u001b[0m\u001b[1;33m\u001b[0m\u001b[0m\n",
      "\u001b[1;31mTypeError\u001b[0m: 'dict' object is not callable"
     ]
    }
   ],
   "source": [
    "\n",
    "io_data=id_user_io().keys.intersection(week_io.keys())\n",
    "io_data=io_data.intersection_update(eye_state_io.keys())\n",
    "io_data=io_data.astype('bool')\n",
    "#io_index=[index for index,io in zip(input_indexes,io_data) if io==True ]"
   ]
  }
 ],
 "metadata": {
  "interpreter": {
   "hash": "1765d742b85f20d8148a596deb7eead8250b90498d30169c8c04cc8e0a42307d"
  },
  "kernelspec": {
   "display_name": "Python 3.8.5 64-bit ('base': conda)",
   "language": "python",
   "name": "python3"
  },
  "language_info": {
   "codemirror_mode": {
    "name": "ipython",
    "version": 3
   },
   "file_extension": ".py",
   "mimetype": "text/x-python",
   "name": "python",
   "nbconvert_exporter": "python",
   "pygments_lexer": "ipython3",
   "version": "3.8.5"
  },
  "orig_nbformat": 4
 },
 "nbformat": 4,
 "nbformat_minor": 2
}
